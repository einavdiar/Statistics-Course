{
 "cells": [
  {
   "cell_type": "markdown",
   "metadata": {},
   "source": [
    "# Exercise 2:\n",
    "#### Student Name: Einav Diar"
   ]
  },
  {
   "cell_type": "code",
   "execution_count": 4,
   "metadata": {},
   "outputs": [],
   "source": [
    "import pandas as pd\n",
    "import numpy as np\n",
    "import matplotlib.pyplot as plt\n",
    "import seaborn as sns\n",
    "import sklearn as sk\n",
    "import scipy.stats as st\n",
    "import statistics\n",
    "import scipy.stats as stats\n",
    "from scipy.stats import binom\n",
    "import statsmodels.stats.power as snp"
   ]
  },
  {
   "cell_type": "code",
   "execution_count": 5,
   "metadata": {},
   "outputs": [],
   "source": [
    "data= pd.read_csv(\"https://raw.githubusercontent.com/ShaiYona/Statiscs_2022A/main/SevereIllness.csv\")"
   ]
  },
  {
   "cell_type": "markdown",
   "metadata": {},
   "source": [
    "## Question 1:"
   ]
  },
  {
   "cell_type": "code",
   "execution_count": 6,
   "metadata": {},
   "outputs": [
    {
     "data": {
      "text/html": [
       "<div>\n",
       "<style scoped>\n",
       "    .dataframe tbody tr th:only-of-type {\n",
       "        vertical-align: middle;\n",
       "    }\n",
       "\n",
       "    .dataframe tbody tr th {\n",
       "        vertical-align: top;\n",
       "    }\n",
       "\n",
       "    .dataframe thead th {\n",
       "        text-align: right;\n",
       "    }\n",
       "</style>\n",
       "<table border=\"1\" class=\"dataframe\">\n",
       "  <thead>\n",
       "    <tr style=\"text-align: right;\">\n",
       "      <th></th>\n",
       "      <th>date</th>\n",
       "      <th>age_group</th>\n",
       "      <th>Vaccinated_Severe_Illness_Per_100K</th>\n",
       "      <th>OutDated_Vaccinated_Severe_Illness_Per_100K</th>\n",
       "      <th>Non_Vaccinated_Severe_Illness_Per_100K</th>\n",
       "    </tr>\n",
       "  </thead>\n",
       "  <tbody>\n",
       "    <tr>\n",
       "      <th>85</th>\n",
       "      <td>06-11-2021</td>\n",
       "      <td>all population</td>\n",
       "      <td>0.4</td>\n",
       "      <td>1.0</td>\n",
       "      <td>4.8</td>\n",
       "    </tr>\n",
       "    <tr>\n",
       "      <th>86</th>\n",
       "      <td>06-11-2021</td>\n",
       "      <td>under age 60</td>\n",
       "      <td>0.1</td>\n",
       "      <td>0.6</td>\n",
       "      <td>2.7</td>\n",
       "    </tr>\n",
       "    <tr>\n",
       "      <th>87</th>\n",
       "      <td>07-11-2021</td>\n",
       "      <td>above age 60</td>\n",
       "      <td>1.4</td>\n",
       "      <td>3.8</td>\n",
       "      <td>50.3</td>\n",
       "    </tr>\n",
       "    <tr>\n",
       "      <th>88</th>\n",
       "      <td>07-11-2021</td>\n",
       "      <td>under age 60</td>\n",
       "      <td>0.1</td>\n",
       "      <td>0.6</td>\n",
       "      <td>2.6</td>\n",
       "    </tr>\n",
       "    <tr>\n",
       "      <th>89</th>\n",
       "      <td>07-11-2021</td>\n",
       "      <td>all population</td>\n",
       "      <td>0.4</td>\n",
       "      <td>1.0</td>\n",
       "      <td>4.5</td>\n",
       "    </tr>\n",
       "  </tbody>\n",
       "</table>\n",
       "</div>"
      ],
      "text/plain": [
       "          date       age_group  Vaccinated_Severe_Illness_Per_100K  \\\n",
       "85  06-11-2021  all population                                 0.4   \n",
       "86  06-11-2021    under age 60                                 0.1   \n",
       "87  07-11-2021    above age 60                                 1.4   \n",
       "88  07-11-2021    under age 60                                 0.1   \n",
       "89  07-11-2021  all population                                 0.4   \n",
       "\n",
       "    OutDated_Vaccinated_Severe_Illness_Per_100K  \\\n",
       "85                                          1.0   \n",
       "86                                          0.6   \n",
       "87                                          3.8   \n",
       "88                                          0.6   \n",
       "89                                          1.0   \n",
       "\n",
       "    Non_Vaccinated_Severe_Illness_Per_100K  \n",
       "85                                     4.8  \n",
       "86                                     2.7  \n",
       "87                                    50.3  \n",
       "88                                     2.6  \n",
       "89                                     4.5  "
      ]
     },
     "execution_count": 6,
     "metadata": {},
     "output_type": "execute_result"
    }
   ],
   "source": [
    "data.tail()"
   ]
  },
  {
   "cell_type": "markdown",
   "metadata": {},
   "source": [
    "## Question 2:"
   ]
  },
  {
   "cell_type": "code",
   "execution_count": 7,
   "metadata": {},
   "outputs": [],
   "source": [
    "new= data[(data['age_group'] == 'under age 60')]"
   ]
  },
  {
   "cell_type": "code",
   "execution_count": 8,
   "metadata": {},
   "outputs": [
    {
     "data": {
      "text/html": [
       "<div>\n",
       "<style scoped>\n",
       "    .dataframe tbody tr th:only-of-type {\n",
       "        vertical-align: middle;\n",
       "    }\n",
       "\n",
       "    .dataframe tbody tr th {\n",
       "        vertical-align: top;\n",
       "    }\n",
       "\n",
       "    .dataframe thead th {\n",
       "        text-align: right;\n",
       "    }\n",
       "</style>\n",
       "<table border=\"1\" class=\"dataframe\">\n",
       "  <thead>\n",
       "    <tr style=\"text-align: right;\">\n",
       "      <th></th>\n",
       "      <th>date</th>\n",
       "      <th>age_group</th>\n",
       "      <th>Vaccinated_Severe_Illness_Per_100K</th>\n",
       "      <th>OutDated_Vaccinated_Severe_Illness_Per_100K</th>\n",
       "      <th>Non_Vaccinated_Severe_Illness_Per_100K</th>\n",
       "    </tr>\n",
       "  </thead>\n",
       "  <tbody>\n",
       "    <tr>\n",
       "      <th>76</th>\n",
       "      <td>03-11-2021</td>\n",
       "      <td>under age 60</td>\n",
       "      <td>0.1</td>\n",
       "      <td>0.4</td>\n",
       "      <td>2.9</td>\n",
       "    </tr>\n",
       "    <tr>\n",
       "      <th>80</th>\n",
       "      <td>04-11-2021</td>\n",
       "      <td>under age 60</td>\n",
       "      <td>0.1</td>\n",
       "      <td>0.4</td>\n",
       "      <td>2.7</td>\n",
       "    </tr>\n",
       "    <tr>\n",
       "      <th>82</th>\n",
       "      <td>05-11-2021</td>\n",
       "      <td>under age 60</td>\n",
       "      <td>0.1</td>\n",
       "      <td>0.5</td>\n",
       "      <td>2.7</td>\n",
       "    </tr>\n",
       "    <tr>\n",
       "      <th>86</th>\n",
       "      <td>06-11-2021</td>\n",
       "      <td>under age 60</td>\n",
       "      <td>0.1</td>\n",
       "      <td>0.6</td>\n",
       "      <td>2.7</td>\n",
       "    </tr>\n",
       "    <tr>\n",
       "      <th>88</th>\n",
       "      <td>07-11-2021</td>\n",
       "      <td>under age 60</td>\n",
       "      <td>0.1</td>\n",
       "      <td>0.6</td>\n",
       "      <td>2.6</td>\n",
       "    </tr>\n",
       "  </tbody>\n",
       "</table>\n",
       "</div>"
      ],
      "text/plain": [
       "          date     age_group  Vaccinated_Severe_Illness_Per_100K  \\\n",
       "76  03-11-2021  under age 60                                 0.1   \n",
       "80  04-11-2021  under age 60                                 0.1   \n",
       "82  05-11-2021  under age 60                                 0.1   \n",
       "86  06-11-2021  under age 60                                 0.1   \n",
       "88  07-11-2021  under age 60                                 0.1   \n",
       "\n",
       "    OutDated_Vaccinated_Severe_Illness_Per_100K  \\\n",
       "76                                          0.4   \n",
       "80                                          0.4   \n",
       "82                                          0.5   \n",
       "86                                          0.6   \n",
       "88                                          0.6   \n",
       "\n",
       "    Non_Vaccinated_Severe_Illness_Per_100K  \n",
       "76                                     2.9  \n",
       "80                                     2.7  \n",
       "82                                     2.7  \n",
       "86                                     2.7  \n",
       "88                                     2.6  "
      ]
     },
     "execution_count": 8,
     "metadata": {},
     "output_type": "execute_result"
    }
   ],
   "source": [
    "new.tail()"
   ]
  },
  {
   "cell_type": "markdown",
   "metadata": {},
   "source": [
    "## Question 3:"
   ]
  },
  {
   "cell_type": "code",
   "execution_count": 9,
   "metadata": {},
   "outputs": [
    {
     "data": {
      "image/png": "[encoded data removed]",
      "text/plain": [
       "<Figure size 1440x360 with 1 Axes>"
      ]
     },
     "metadata": {
      "needs_background": "light"
     },
     "output_type": "display_data"
    }
   ],
   "source": [
    "fig, ax = plt.subplots(figsize=(20,5))\n",
    "ax.plot(new.date, new.Vaccinated_Severe_Illness_Per_100K)\n",
    "ax.plot(new.date, new.OutDated_Vaccinated_Severe_Illness_Per_100K)\n",
    "ax.plot(new.date, new.Non_Vaccinated_Severe_Illness_Per_100K)\n",
    "plt.title('Severe Illness')\n",
    "plt.xlabel('Date')\n",
    "plt.ylabel('Severe Illness Per 100K')\n",
    "plt.xticks(rotation=60,fontsize=10)\n",
    "plt.show()"
   ]
  },
  {
   "cell_type": "markdown",
   "metadata": {},
   "source": [
    "## Question 4:"
   ]
  },
  {
   "cell_type": "markdown",
   "metadata": {},
   "source": [
    " מכוון שהתבקשנו לבצע מבחן להשוואת השונויות בין האוכלוסיות השונות, נבחר לבצע את מבחן F."
   ]
  },
  {
   "cell_type": "code",
   "execution_count": 10,
   "metadata": {},
   "outputs": [
    {
     "data": {
      "text/plain": [
       "(136.71648044692742, 1.1102230246251565e-16)"
      ]
     },
     "execution_count": 10,
     "metadata": {},
     "output_type": "execute_result"
    }
   ],
   "source": [
    "def f_test(x,y):\n",
    "    x=np.array(x)\n",
    "    y=np.array(y)\n",
    "    f=np.var(x, ddof=1)/np.var(y, ddof=1)\n",
    "    dfn=x.size-1\n",
    "    dfd=y.size-1\n",
    "    p=1-stats.f.cdf(f,dfn,dfd)\n",
    "    return f,p\n",
    "a=new[['Non_Vaccinated_Severe_Illness_Per_100K']]\n",
    "b=new[['Vaccinated_Severe_Illness_Per_100K']]\n",
    "f_test(a,b)"
   ]
  },
  {
   "cell_type": "markdown",
   "metadata": {},
   "source": [
    "stats= 136.71648044692742\n",
    "\n",
    "\n",
    "p_value=1.1102230246251565e-16"
   ]
  },
  {
   "cell_type": "markdown",
   "metadata": {},
   "source": [
    "## Question 5:"
   ]
  },
  {
   "cell_type": "markdown",
   "metadata": {},
   "source": [
    "1."
   ]
  },
  {
   "cell_type": "code",
   "execution_count": 11,
   "metadata": {},
   "outputs": [
    {
     "data": {
      "text/plain": [
       "193.91868488817084"
      ]
     },
     "execution_count": 11,
     "metadata": {},
     "output_type": "execute_result"
    }
   ],
   "source": [
    "power_analysis= snp.TTestIndPower()\n",
    "sample_size1= power_analysis.solve_power(effect_size=0.5, power= 0.99, alpha=0.01)\n",
    "sample_size1"
   ]
  },
  {
   "cell_type": "markdown",
   "metadata": {},
   "source": [
    "2."
   ]
  },
  {
   "cell_type": "code",
   "execution_count": 12,
   "metadata": {},
   "outputs": [
    {
     "data": {
      "text/plain": [
       "13.80533443515486"
      ]
     },
     "execution_count": 12,
     "metadata": {},
     "output_type": "execute_result"
    }
   ],
   "source": [
    "power_analysis= snp.TTestIndPower()\n",
    "sample_size2= power_analysis.solve_power(effect_size=2, power= 0.99, alpha=0.01)\n",
    "sample_size2"
   ]
  },
  {
   "cell_type": "markdown",
   "metadata": {},
   "source": [
    "מכוון שמדובר בבני אדם, גודל המדגם הנדרש הוא 14 אנשים.\n",
    "ניתן לראות שככל שהגדלנו את הפרש התוחלות חלקי סטיית התקן, אנו צריכים מדגם קטן יותר מכוון שיש ביניהם קשר הפוך.\n",
    "כלומר, אפקט סייז מצביע על הקשר בין המשתנים, ככל שהוא גבוה יותר - נדרשים פחות אנשים."
   ]
  },
  {
   "cell_type": "markdown",
   "metadata": {},
   "source": [
    "3."
   ]
  },
  {
   "cell_type": "code",
   "execution_count": 13,
   "metadata": {},
   "outputs": [
    {
     "name": "stdout",
     "output_type": "stream",
     "text": [
      "The effect size is: 5.273702930509043\n"
     ]
    }
   ],
   "source": [
    "a=np.array(new[['Non_Vaccinated_Severe_Illness_Per_100K']])\n",
    "b=np.array(new[['Vaccinated_Severe_Illness_Per_100K']])\n",
    "s=(np.mean(a)-np.mean(b))/ np.sqrt((np.std(a,ddof=1)**2 + np.std(b,ddof=1)**2)/2)\n",
    "print('The effect size is:', s)"
   ]
  },
  {
   "cell_type": "markdown",
   "metadata": {},
   "source": [
    "4."
   ]
  },
  {
   "cell_type": "code",
   "execution_count": 14,
   "metadata": {},
   "outputs": [
    {
     "data": {
      "text/plain": [
       "3.803498804723388"
      ]
     },
     "execution_count": 14,
     "metadata": {},
     "output_type": "execute_result"
    }
   ],
   "source": [
    "power_analysis= snp.TTestIndPower()\n",
    "sample_size3= power_analysis.solve_power(effect_size=s, power= 0.99, alpha=0.01)\n",
    "sample_size3"
   ]
  },
  {
   "cell_type": "markdown",
   "metadata": {},
   "source": [
    "ולכן גודל המדגם המינימלי הוא 4 "
   ]
  },
  {
   "cell_type": "markdown",
   "metadata": {},
   "source": [
    "## Question 6:"
   ]
  },
  {
   "cell_type": "markdown",
   "metadata": {},
   "source": [
    "1."
   ]
  },
  {
   "cell_type": "markdown",
   "metadata": {},
   "source": [
    "if pvalue <= alpha: reject H0\n",
    "\n",
    "\n",
    "if pvalue > alpha: do not reject H0"
   ]
  },
  {
   "cell_type": "markdown",
   "metadata": {},
   "source": [
    "ולכן, נדחה את השערת האפס אם קיים קשר בין שתי האוכלוסיות."
   ]
  },
  {
   "cell_type": "markdown",
   "metadata": {},
   "source": [
    "2."
   ]
  },
  {
   "cell_type": "code",
   "execution_count": 15,
   "metadata": {},
   "outputs": [
    {
     "name": "stdout",
     "output_type": "stream",
     "text": [
      "dof=29\n",
      "expectation table =  [[5.82930375 5.92486611 5.63817904 5.44705432 5.35149197 5.16036725\n",
      "  5.16036725 5.44705432 5.44705432 5.0648049  4.87368018 4.68255547\n",
      "  4.30030604 4.3958684  4.20474369 4.10918133 3.82249426 3.53580719\n",
      "  3.44024484 3.44024484 3.24912012 3.34468248 3.34468248 3.15355777\n",
      "  3.05799541 2.8668707  2.67574598 2.67574598 2.67574598 2.58018363]\n",
      " [0.27069625 0.27513389 0.26182096 0.25294568 0.24850803 0.23963275\n",
      "  0.23963275 0.25294568 0.25294568 0.2351951  0.22631982 0.21744453\n",
      "  0.19969396 0.2041316  0.19525631 0.19081867 0.17750574 0.16419281\n",
      "  0.15975516 0.15975516 0.15087988 0.15531752 0.15531752 0.14644223\n",
      "  0.14200459 0.1331293  0.12425402 0.12425402 0.12425402 0.11981637]]\n",
      "significance=0.010, critical=49.588, stat=0.318\n"
     ]
    }
   ],
   "source": [
    "from scipy.stats import chi2_contingency\n",
    "from scipy.stats import chi2\n",
    "X_st, pVal, dof, execpted = chi2_contingency([new['Non_Vaccinated_Severe_Illness_Per_100K'], new['Vaccinated_Severe_Illness_Per_100K']])\n",
    "print('dof=%d' % dof)\n",
    "print('expectation table = ', execpted)\n",
    "alpha=0.01\n",
    "prob=1-alpha\n",
    "X_c= chi2.ppf(prob,dof)\n",
    "print('significance=%.3f, critical=%.3f, stat=%.3f' % (alpha, X_c, X_st))"
   ]
  },
  {
   "cell_type": "code",
   "execution_count": 16,
   "metadata": {},
   "outputs": [
    {
     "name": "stdout",
     "output_type": "stream",
     "text": [
      "1.0\n"
     ]
    }
   ],
   "source": [
    "print(pVal)"
   ]
  },
  {
   "cell_type": "markdown",
   "metadata": {},
   "source": [
    "pValue = 1\n",
    "\n",
    "dof=29\n",
    "\n",
    "xSt= 0.318\n"
   ]
  },
  {
   "cell_type": "markdown",
   "metadata": {},
   "source": [
    "3."
   ]
  },
  {
   "cell_type": "code",
   "execution_count": 17,
   "metadata": {},
   "outputs": [
    {
     "data": {
      "text/plain": [
       "49.58788447289881"
      ]
     },
     "execution_count": 17,
     "metadata": {},
     "output_type": "execute_result"
    }
   ],
   "source": [
    "stats.chi2.ppf(1-alpha, dof)"
   ]
  },
  {
   "cell_type": "markdown",
   "metadata": {},
   "source": [
    "critical= 49.588"
   ]
  },
  {
   "cell_type": "markdown",
   "metadata": {},
   "source": [
    "4."
   ]
  },
  {
   "cell_type": "code",
   "execution_count": 18,
   "metadata": {},
   "outputs": [
    {
     "name": "stdout",
     "output_type": "stream",
     "text": [
      "Independent (fail to reject H0)\n"
     ]
    }
   ],
   "source": [
    "if abs(X_st) >= X_c:\n",
    "    print('Dependent (reject H0)')\n",
    "else:\n",
    "    print('Independent (fail to reject H0)')"
   ]
  },
  {
   "cell_type": "markdown",
   "metadata": {},
   "source": [
    "## Question 7:"
   ]
  },
  {
   "cell_type": "code",
   "execution_count": 19,
   "metadata": {},
   "outputs": [],
   "source": [
    "last=new[(new['date'] == '07-11-2021')]"
   ]
  },
  {
   "cell_type": "code",
   "execution_count": 20,
   "metadata": {},
   "outputs": [
    {
     "data": {
      "text/html": [
       "<div>\n",
       "<style scoped>\n",
       "    .dataframe tbody tr th:only-of-type {\n",
       "        vertical-align: middle;\n",
       "    }\n",
       "\n",
       "    .dataframe tbody tr th {\n",
       "        vertical-align: top;\n",
       "    }\n",
       "\n",
       "    .dataframe thead th {\n",
       "        text-align: right;\n",
       "    }\n",
       "</style>\n",
       "<table border=\"1\" class=\"dataframe\">\n",
       "  <thead>\n",
       "    <tr style=\"text-align: right;\">\n",
       "      <th></th>\n",
       "      <th>Non_Vaccinated_Severe_Illness_Per_100K</th>\n",
       "    </tr>\n",
       "  </thead>\n",
       "  <tbody>\n",
       "    <tr>\n",
       "      <th>88</th>\n",
       "      <td>2.6</td>\n",
       "    </tr>\n",
       "  </tbody>\n",
       "</table>\n",
       "</div>"
      ],
      "text/plain": [
       "    Non_Vaccinated_Severe_Illness_Per_100K\n",
       "88                                     2.6"
      ]
     },
     "execution_count": 20,
     "metadata": {},
     "output_type": "execute_result"
    }
   ],
   "source": [
    "last[['Non_Vaccinated_Severe_Illness_Per_100K']]"
   ]
  },
  {
   "cell_type": "markdown",
   "metadata": {},
   "source": [
    "כלומר 2.6 חולים קשה ל100 אלף איש"
   ]
  },
  {
   "cell_type": "code",
   "execution_count": 21,
   "metadata": {},
   "outputs": [],
   "source": [
    "import statsmodels.api as sm\n",
    "from statsmodels.stats.proportion import proportion_confint "
   ]
  },
  {
   "cell_type": "code",
   "execution_count": 22,
   "metadata": {},
   "outputs": [
    {
     "data": {
      "text/plain": [
       "(0.0, 6.75334595761597e-05)"
      ]
     },
     "execution_count": 22,
     "metadata": {},
     "output_type": "execute_result"
    }
   ],
   "source": [
    "proportion_confint(count=2.6, nobs=100000, alpha=(1 - 0.99))"
   ]
  }
 ],
 "metadata": {
  "kernelspec": {
   "display_name": "Python 3 (ipykernel)",
   "language": "python",
   "name": "python3"
  },
  "language_info": {
   "codemirror_mode": {
    "name": "ipython",
    "version": 3
   },
   "file_extension": ".py",
   "mimetype": "text/x-python",
   "name": "python",
   "nbconvert_exporter": "python",
   "pygments_lexer": "ipython3",
   "version": "3.9.6"
  }
 },
 "nbformat": 4,
 "nbformat_minor": 4
}
