{
 "cells": [
  {
   "cell_type": "markdown",
   "metadata": {},
   "source": [
    "# Exercise 1:\n",
    "#### Student Name: Einav Diar\n"
   ]
  },
  {
   "cell_type": "code",
   "execution_count": 1,
   "metadata": {},
   "outputs": [],
   "source": [
    "import pandas as pd\n",
    "import numpy as np\n",
    "import matplotlib.pyplot as plt\n",
    "import seaborn as sns\n",
    "import sklearn as sk\n",
    "import scipy.stats as st"
   ]
  },
  {
   "cell_type": "code",
   "execution_count": 2,
   "metadata": {},
   "outputs": [],
   "source": [
    "data= pd.read_csv(\"https://raw.githubusercontent.com/ShaiYona/Statiscs_2022A/main/SevereIllness.csv\")"
   ]
  },
  {
   "cell_type": "markdown",
   "metadata": {},
   "source": [
    "## Question 1:"
   ]
  },
  {
   "cell_type": "code",
   "execution_count": 3,
   "metadata": {},
   "outputs": [
    {
     "data": {
      "text/html": [
       "<div>\n",
       "<style scoped>\n",
       "    .dataframe tbody tr th:only-of-type {\n",
       "        vertical-align: middle;\n",
       "    }\n",
       "\n",
       "    .dataframe tbody tr th {\n",
       "        vertical-align: top;\n",
       "    }\n",
       "\n",
       "    .dataframe thead th {\n",
       "        text-align: right;\n",
       "    }\n",
       "</style>\n",
       "<table border=\"1\" class=\"dataframe\">\n",
       "  <thead>\n",
       "    <tr style=\"text-align: right;\">\n",
       "      <th></th>\n",
       "      <th>date</th>\n",
       "      <th>age_group</th>\n",
       "      <th>Vaccinated_Severe_Illness_Per_100K</th>\n",
       "      <th>OutDated_Vaccinated_Severe_Illness_Per_100K</th>\n",
       "      <th>Non_Vaccinated_Severe_Illness_Per_100K</th>\n",
       "    </tr>\n",
       "  </thead>\n",
       "  <tbody>\n",
       "    <tr>\n",
       "      <th>85</th>\n",
       "      <td>06-11-2021</td>\n",
       "      <td>all population</td>\n",
       "      <td>0.4</td>\n",
       "      <td>1.0</td>\n",
       "      <td>4.8</td>\n",
       "    </tr>\n",
       "    <tr>\n",
       "      <th>86</th>\n",
       "      <td>06-11-2021</td>\n",
       "      <td>under age 60</td>\n",
       "      <td>0.1</td>\n",
       "      <td>0.6</td>\n",
       "      <td>2.7</td>\n",
       "    </tr>\n",
       "    <tr>\n",
       "      <th>87</th>\n",
       "      <td>07-11-2021</td>\n",
       "      <td>above age 60</td>\n",
       "      <td>1.4</td>\n",
       "      <td>3.8</td>\n",
       "      <td>50.3</td>\n",
       "    </tr>\n",
       "    <tr>\n",
       "      <th>88</th>\n",
       "      <td>07-11-2021</td>\n",
       "      <td>under age 60</td>\n",
       "      <td>0.1</td>\n",
       "      <td>0.6</td>\n",
       "      <td>2.6</td>\n",
       "    </tr>\n",
       "    <tr>\n",
       "      <th>89</th>\n",
       "      <td>07-11-2021</td>\n",
       "      <td>all population</td>\n",
       "      <td>0.4</td>\n",
       "      <td>1.0</td>\n",
       "      <td>4.5</td>\n",
       "    </tr>\n",
       "  </tbody>\n",
       "</table>\n",
       "</div>"
      ],
      "text/plain": [
       "          date       age_group  Vaccinated_Severe_Illness_Per_100K  \\\n",
       "85  06-11-2021  all population                                 0.4   \n",
       "86  06-11-2021    under age 60                                 0.1   \n",
       "87  07-11-2021    above age 60                                 1.4   \n",
       "88  07-11-2021    under age 60                                 0.1   \n",
       "89  07-11-2021  all population                                 0.4   \n",
       "\n",
       "    OutDated_Vaccinated_Severe_Illness_Per_100K  \\\n",
       "85                                          1.0   \n",
       "86                                          0.6   \n",
       "87                                          3.8   \n",
       "88                                          0.6   \n",
       "89                                          1.0   \n",
       "\n",
       "    Non_Vaccinated_Severe_Illness_Per_100K  \n",
       "85                                     4.8  \n",
       "86                                     2.7  \n",
       "87                                    50.3  \n",
       "88                                     2.6  \n",
       "89                                     4.5  "
      ]
     },
     "execution_count": 3,
     "metadata": {},
     "output_type": "execute_result"
    }
   ],
   "source": [
    "data.tail()"
   ]
  },
  {
   "cell_type": "markdown",
   "metadata": {},
   "source": [
    "## Question 2:"
   ]
  },
  {
   "cell_type": "code",
   "execution_count": 4,
   "metadata": {},
   "outputs": [],
   "source": [
    "new= data[(data['age_group'] == 'above age 60')]"
   ]
  },
  {
   "cell_type": "code",
   "execution_count": 5,
   "metadata": {},
   "outputs": [
    {
     "data": {
      "text/html": [
       "<div>\n",
       "<style scoped>\n",
       "    .dataframe tbody tr th:only-of-type {\n",
       "        vertical-align: middle;\n",
       "    }\n",
       "\n",
       "    .dataframe tbody tr th {\n",
       "        vertical-align: top;\n",
       "    }\n",
       "\n",
       "    .dataframe thead th {\n",
       "        text-align: right;\n",
       "    }\n",
       "</style>\n",
       "<table border=\"1\" class=\"dataframe\">\n",
       "  <thead>\n",
       "    <tr style=\"text-align: right;\">\n",
       "      <th></th>\n",
       "      <th>date</th>\n",
       "      <th>age_group</th>\n",
       "      <th>Vaccinated_Severe_Illness_Per_100K</th>\n",
       "      <th>OutDated_Vaccinated_Severe_Illness_Per_100K</th>\n",
       "      <th>Non_Vaccinated_Severe_Illness_Per_100K</th>\n",
       "    </tr>\n",
       "  </thead>\n",
       "  <tbody>\n",
       "    <tr>\n",
       "      <th>75</th>\n",
       "      <td>03-11-2021</td>\n",
       "      <td>above age 60</td>\n",
       "      <td>1.6</td>\n",
       "      <td>8.7</td>\n",
       "      <td>56.4</td>\n",
       "    </tr>\n",
       "    <tr>\n",
       "      <th>79</th>\n",
       "      <td>04-11-2021</td>\n",
       "      <td>above age 60</td>\n",
       "      <td>1.5</td>\n",
       "      <td>4.8</td>\n",
       "      <td>54.1</td>\n",
       "    </tr>\n",
       "    <tr>\n",
       "      <th>81</th>\n",
       "      <td>05-11-2021</td>\n",
       "      <td>above age 60</td>\n",
       "      <td>1.4</td>\n",
       "      <td>4.8</td>\n",
       "      <td>55.0</td>\n",
       "    </tr>\n",
       "    <tr>\n",
       "      <th>84</th>\n",
       "      <td>06-11-2021</td>\n",
       "      <td>above age 60</td>\n",
       "      <td>1.4</td>\n",
       "      <td>3.8</td>\n",
       "      <td>54.3</td>\n",
       "    </tr>\n",
       "    <tr>\n",
       "      <th>87</th>\n",
       "      <td>07-11-2021</td>\n",
       "      <td>above age 60</td>\n",
       "      <td>1.4</td>\n",
       "      <td>3.8</td>\n",
       "      <td>50.3</td>\n",
       "    </tr>\n",
       "  </tbody>\n",
       "</table>\n",
       "</div>"
      ],
      "text/plain": [
       "          date     age_group  Vaccinated_Severe_Illness_Per_100K  \\\n",
       "75  03-11-2021  above age 60                                 1.6   \n",
       "79  04-11-2021  above age 60                                 1.5   \n",
       "81  05-11-2021  above age 60                                 1.4   \n",
       "84  06-11-2021  above age 60                                 1.4   \n",
       "87  07-11-2021  above age 60                                 1.4   \n",
       "\n",
       "    OutDated_Vaccinated_Severe_Illness_Per_100K  \\\n",
       "75                                          8.7   \n",
       "79                                          4.8   \n",
       "81                                          4.8   \n",
       "84                                          3.8   \n",
       "87                                          3.8   \n",
       "\n",
       "    Non_Vaccinated_Severe_Illness_Per_100K  \n",
       "75                                    56.4  \n",
       "79                                    54.1  \n",
       "81                                    55.0  \n",
       "84                                    54.3  \n",
       "87                                    50.3  "
      ]
     },
     "execution_count": 5,
     "metadata": {},
     "output_type": "execute_result"
    }
   ],
   "source": [
    "new.tail()"
   ]
  },
  {
   "cell_type": "markdown",
   "metadata": {},
   "source": [
    "## Question 3:"
   ]
  },
  {
   "cell_type": "code",
   "execution_count": 6,
   "metadata": {},
   "outputs": [
    {
     "data": {
      "image/png": "[encoded data removed]",
      "text/plain": [
       "<Figure size 1440x360 with 1 Axes>"
      ]
     },
     "metadata": {
      "needs_background": "light"
     },
     "output_type": "display_data"
    }
   ],
   "source": [
    "fig, ax = plt.subplots(figsize=(20,5))\n",
    "ax.plot(new.date, new.Vaccinated_Severe_Illness_Per_100K)\n",
    "ax.plot(new.date, new.OutDated_Vaccinated_Severe_Illness_Per_100K)\n",
    "ax.plot(new.date, new.Non_Vaccinated_Severe_Illness_Per_100K)\n",
    "plt.xticks(rotation=60,fontsize=12)\n",
    "plt.show()"
   ]
  },
  {
   "cell_type": "markdown",
   "metadata": {},
   "source": [
    "## Question 4:"
   ]
  },
  {
   "cell_type": "code",
   "execution_count": 7,
   "metadata": {},
   "outputs": [],
   "source": [
    "import scipy.stats as st"
   ]
  },
  {
   "cell_type": "code",
   "execution_count": null,
   "metadata": {},
   "outputs": [],
   "source": [
    "temp_a = st.norm.interval(alpha=0.99, loc=np.mean(New_data['OutDated_Vaccinated_Severe_Illness_Per_100K']), scale=st.sem(New_data['OutDated_Vaccinated_Severe_Illness_Per_100K']))\n",
    "temp_b = st.norm.interval(alpha=0.99, loc=np.mean(New_data['Non_Vaccinated_Severe_Illness_Per_100K']), scale=st.sem(New_data['Non_Vaccinated_Severe_Illness_Per_100K']))\n",
    "temp_c = st.norm.interval(alpha=0.99, loc=np.mean(New_data['Vaccinated_Severe_Illness_Per_100K']), scale=st.sem(New_data['Vaccinated_Severe_Illness_Per_100K']))\n",
    "data_1 = {'Status': ['OutDated_Vaccinated', 'Non_Vaccinated' , 'Vaccinated'], 'Confidence interval': [temp_a,temp_b,temp_c]}\n",
    "data_2 = pd.DataFrame(data_1)\n",
    "data_2"
   ]
  },
  {
   "cell_type": "code",
   "execution_count": 8,
   "metadata": {},
   "outputs": [
    {
     "data": {
      "text/plain": [
       "(array([2.19348981]), array([3.03984353]))"
      ]
     },
     "execution_count": 8,
     "metadata": {},
     "output_type": "execute_result"
    }
   ],
   "source": [
    "a=new[['Vaccinated_Severe_Illness_Per_100K']]\n",
    "st.norm.interval(alpha=0.99, loc=np.mean(a), scale=st.sem(a))"
   ]
  },
  {
   "cell_type": "code",
   "execution_count": 9,
   "metadata": {},
   "outputs": [
    {
     "data": {
      "text/plain": [
       "(array([10.91293955]), array([16.82706045]))"
      ]
     },
     "execution_count": 9,
     "metadata": {},
     "output_type": "execute_result"
    }
   ],
   "source": [
    "b=new[['OutDated_Vaccinated_Severe_Illness_Per_100K']]\n",
    "st.norm.interval(alpha=0.99, loc=np.mean(b), scale=st.sem(b))"
   ]
  },
  {
   "cell_type": "code",
   "execution_count": 10,
   "metadata": {},
   "outputs": [
    {
     "data": {
      "text/plain": [
       "(array([68.92165855]), array([90.33834145]))"
      ]
     },
     "execution_count": 10,
     "metadata": {},
     "output_type": "execute_result"
    }
   ],
   "source": [
    "c=new[['Non_Vaccinated_Severe_Illness_Per_100K']]\n",
    "st.norm.interval(alpha=0.99, loc=np.mean(c), scale=st.sem(c))"
   ]
  },
  {
   "cell_type": "code",
   "execution_count": 11,
   "metadata": {
    "scrolled": true
   },
   "outputs": [
    {
     "data": {
      "text/plain": [
       "<AxesSubplot:>"
      ]
     },
     "execution_count": 11,
     "metadata": {},
     "output_type": "execute_result"
    },
    {
     "data": {
      "image/png": "[encoded data removed]",
      "text/plain": [
       "<Figure size 1080x360 with 1 Axes>"
      ]
     },
     "metadata": {
      "needs_background": "light"
     },
     "output_type": "display_data"
    }
   ],
   "source": [
    "new.plot.box(y=['Vaccinated_Severe_Illness_Per_100K', 'OutDated_Vaccinated_Severe_Illness_Per_100K',\n",
    "                'Non_Vaccinated_Severe_Illness_Per_100K'],figsize=(15,5))"
   ]
  },
  {
   "cell_type": "markdown",
   "metadata": {},
   "source": [
    "## Question 5:"
   ]
  },
  {
   "cell_type": "markdown",
   "metadata": {},
   "source": [
    "על סמך התוצאות מסעיף 4 ניתן לראות בבירור את השפעת החיסונים ואת יעילות ההחיסונים בהתמודדות עם מחלת הקורונה בקרב החולים מאוכלוסיית גיל 60 ומעלה.\n",
    "הגרף מראה באופן חד משמעי כי שיעור החולים קשה משמעותית גבוה יותר עבור אוכלוסיית הלא מחוסנים וטווח רחב יותר.\n",
    "לעומת זאת, עבור אוכלוסיית המחוסנים והמחוסנים בעלי חיסון פג תוקף יש טווח קטן יותר ושיעור החולים משמעותית נמוך יותר."
   ]
  },
  {
   "cell_type": "markdown",
   "metadata": {},
   "source": [
    "## Question 6:"
   ]
  },
  {
   "cell_type": "code",
   "execution_count": 12,
   "metadata": {},
   "outputs": [],
   "source": [
    "a=new[['Vaccinated_Severe_Illness_Per_100K']]\n",
    "c=new[['Non_Vaccinated_Severe_Illness_Per_100K']]"
   ]
  },
  {
   "cell_type": "code",
   "execution_count": 13,
   "metadata": {},
   "outputs": [
    {
     "data": {
      "text/plain": [
       "Vaccinated_Severe_Illness_Per_100K    2.616667\n",
       "dtype: float64"
      ]
     },
     "execution_count": 13,
     "metadata": {},
     "output_type": "execute_result"
    }
   ],
   "source": [
    "np.mean(a)"
   ]
  },
  {
   "cell_type": "code",
   "execution_count": 14,
   "metadata": {
    "scrolled": true
   },
   "outputs": [
    {
     "data": {
      "text/plain": [
       "Non_Vaccinated_Severe_Illness_Per_100K    79.63\n",
       "dtype: float64"
      ]
     },
     "execution_count": 14,
     "metadata": {},
     "output_type": "execute_result"
    }
   ],
   "source": [
    "np.mean(c)"
   ]
  },
  {
   "cell_type": "markdown",
   "metadata": {},
   "source": [
    "תוחלת החולים קשה עבור אוכלוסית הלא מחוסנים גבוהה יותר משמעותית מאוכלוסיית המחוסנים\n",
    "2.61<79.63"
   ]
  },
  {
   "cell_type": "code",
   "execution_count": 21,
   "metadata": {},
   "outputs": [
    {
     "data": {
      "text/plain": [
       "Vaccinated_Severe_Illness_Per_100K    0.782722\n",
       "dtype: float64"
      ]
     },
     "execution_count": 21,
     "metadata": {},
     "output_type": "execute_result"
    }
   ],
   "source": [
    "np.var(a)"
   ]
  },
  {
   "cell_type": "code",
   "execution_count": 22,
   "metadata": {},
   "outputs": [
    {
     "data": {
      "text/plain": [
       "Non_Vaccinated_Severe_Illness_Per_100K    501.196767\n",
       "dtype: float64"
      ]
     },
     "execution_count": 22,
     "metadata": {},
     "output_type": "execute_result"
    }
   ],
   "source": [
    "np.var(c)"
   ]
  },
  {
   "cell_type": "code",
   "execution_count": 23,
   "metadata": {},
   "outputs": [
    {
     "data": {
      "text/plain": [
       "Ttest_indResult(statistic=array([18.51066129]), pvalue=array([1.]))"
      ]
     },
     "execution_count": 23,
     "metadata": {},
     "output_type": "execute_result"
    }
   ],
   "source": [
    "st.ttest_ind(c,a, equal_var=False,alternative='less')"
   ]
  },
  {
   "cell_type": "markdown",
   "metadata": {},
   "source": [
    "## Question 7:"
   ]
  },
  {
   "cell_type": "markdown",
   "metadata": {},
   "source": [
    "H0: mean(c)>mean(a)\n",
    "\n",
    "H1: mean(c)<mean(a)"
   ]
  },
  {
   "cell_type": "markdown",
   "metadata": {},
   "source": [
    "PVALUE=1\n",
    "\n",
    "לכן אנחנו לא יכולים לדחות את השערת האפס."
   ]
  },
  {
   "cell_type": "markdown",
   "metadata": {},
   "source": [
    "כלומר, מבחן ההשערה מראה כי ניתן להסיק שמספר החולים קשה הלא מחוסנים - גבוה ממספר החולים קשה המחוסנים. "
   ]
  }
 ],
 "metadata": {
  "kernelspec": {
   "display_name": "Python 3 (ipykernel)",
   "language": "python",
   "name": "python3"
  },
  "language_info": {
   "codemirror_mode": {
    "name": "ipython",
    "version": 3
   },
   "file_extension": ".py",
   "mimetype": "text/x-python",
   "name": "python",
   "nbconvert_exporter": "python",
   "pygments_lexer": "ipython3",
   "version": "3.9.6"
  }
 },
 "nbformat": 4,
 "nbformat_minor": 4
}
